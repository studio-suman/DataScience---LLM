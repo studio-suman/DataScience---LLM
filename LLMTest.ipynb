{
 "cells": [
  {
   "cell_type": "markdown",
   "metadata": {},
   "source": [
    "### LLM Test with OLLAMA and LangChain"
   ]
  },
  {
   "cell_type": "markdown",
   "metadata": {},
   "source": [
    "Key for Langsmith - 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\n",
    "\n",
    "\n",
    "LANGCHAIN_TRACING_V2=true\n",
    "LANGCHAIN_ENDPOINT=\"https://api.smith.langchain.com\"\n",
    "LANGCHAIN_API_KEY=\"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\"\n",
    "LANGCHAIN_PROJECT=\"ChatOllama\""
   ]
  },
  {
   "cell_type": "code",
   "execution_count": 1,
   "metadata": {},
   "outputs": [],
   "source": [
    "from typing import List\n",
    "from typing_extensions import TypedDict\n",
    "from langchain_ollama import ChatOllama\n",
    "from langsmith import traceable\n",
    "from langchain_core.tools import tool\n",
    "from langchain.llms import Ollama\n",
    "from langchain_community.embeddings import OllamaEmbeddings\n",
    "import os\n"
   ]
  },
  {
   "cell_type": "code",
   "execution_count": 2,
   "metadata": {},
   "outputs": [],
   "source": [
    "os.environ[\"LANGCHAIN_TRACING_V2\"] = \"true\"\n",
    "os.environ[\"LANGCHAIN_ENDPOINT\"] = \"https://api.smith.langchain.com\"\n",
    "os.environ[\"LANGCHAIN_API_KEY\"] = \"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\"\n",
    "os.environ[\"LANGCHAIN_PROJECT\"] = \"ChatOllama\""
   ]
  },
  {
   "cell_type": "code",
   "execution_count": 3,
   "metadata": {},
   "outputs": [],
   "source": [
    "@tool\n",
    "def validate_user (user_id: int, addresses: List[str]) -> bool:\n",
    "        \"\"\"Validate user using historical addresses.\n",
    "\n",
    "        Args:\n",
    "        user_id (int): the user ID.\n",
    "        addresses (List[str]): Previous addresses as a list of strings.\n",
    "        \"\"\"\n",
    "        return True"
   ]
  },
  {
   "cell_type": "code",
   "execution_count": 4,
   "metadata": {},
   "outputs": [],
   "source": [
    "@tool\n",
    "def message (message: str) -> bool:\n",
    "        \"\"\"Validate user using historical addresses.\n",
    "\n",
    "        Args:\n",
    "        message: passage\n",
    "        \"\"\"\n",
    "        return True"
   ]
  },
  {
   "cell_type": "code",
   "execution_count": 5,
   "metadata": {},
   "outputs": [],
   "source": [
    "llm = ChatOllama(\n",
    "    model = \"llama3.2\",\n",
    "    temparature = 0\n",
    ").bind_tools([message])"
   ]
  },
  {
   "cell_type": "code",
   "execution_count": 6,
   "metadata": {},
   "outputs": [
    {
     "data": {
      "text/plain": [
       "' result = llm.invoke(\\n    \"Could you validate user 123? They previously lived at \"\\n    \"123 Fake St in Boston MA and 234 Pretend Boulevard in \"\\n    \"Houston TX.\"\\n    ) '"
      ]
     },
     "execution_count": 6,
     "metadata": {},
     "output_type": "execute_result"
    }
   ],
   "source": [
    "\"\"\" result = llm.invoke(\n",
    "    \"Could you validate user 123? They previously lived at \"\n",
    "    \"123 Fake St in Boston MA and 234 Pretend Boulevard in \"\n",
    "    \"Houston TX.\"\n",
    "    ) \"\"\""
   ]
  },
  {
   "cell_type": "code",
   "execution_count": 7,
   "metadata": {},
   "outputs": [],
   "source": [
    "result = llm.invoke(\n",
    "    \"Tell me a imaginative story\"\n",
    "    )"
   ]
  },
  {
   "cell_type": "code",
   "execution_count": 8,
   "metadata": {},
   "outputs": [
    {
     "data": {
      "text/plain": [
       "[{'name': 'message',\n",
       "  'args': {'message': 'In a far-off galaxy, there was a magnificent castle made of crystal, where the air was sweet with the scent of exotic flowers and the sound of soft music filled the air. The castle was home to a wise and just king, who ruled over his kingdom with kindness and compassion. But little did anyone know, the castle held a secret: it was actually a giant time machine, and the king had been using it to travel through the ages, learning new things and meeting new people.'},\n",
       "  'id': 'e74116f4-7d03-4b81-ae97-f78d1c57ad27',\n",
       "  'type': 'tool_call'}]"
      ]
     },
     "execution_count": 8,
     "metadata": {},
     "output_type": "execute_result"
    }
   ],
   "source": [
    "result.tool_calls"
   ]
  }
 ],
 "metadata": {
  "kernelspec": {
   "display_name": ".venv",
   "language": "python",
   "name": "python3"
  },
  "language_info": {
   "codemirror_mode": {
    "name": "ipython",
    "version": 3
   },
   "file_extension": ".py",
   "mimetype": "text/x-python",
   "name": "python",
   "nbconvert_exporter": "python",
   "pygments_lexer": "ipython3",
   "version": "3.13.0"
  }
 },
 "nbformat": 4,
 "nbformat_minor": 2
}
